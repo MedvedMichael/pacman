{
 "cells": [
  {
   "cell_type": "markdown",
   "id": "35f642ec-8fba-4214-8e8b-1807a2f575c7",
   "metadata": {},
   "source": [
    "# Imports"
   ]
  },
  {
   "cell_type": "code",
   "execution_count": 1,
   "id": "8390d182-c49b-4eb5-811e-adacb62e4e5b",
   "metadata": {},
   "outputs": [],
   "source": [
    "import pandas as pd\n",
    "import numpy as np\n",
    "from sklearn import linear_model\n",
    "import matplotlib.pyplot as plt\n",
    "from sklearn.model_selection import train_test_split"
   ]
  },
  {
   "cell_type": "markdown",
   "id": "d341aaa3-02f8-4e3d-b621-e83c791930a1",
   "metadata": {},
   "source": [
    "## Reading CSV"
   ]
  },
  {
   "cell_type": "code",
   "execution_count": 2,
   "id": "c0ced21e-5d83-499b-a611-8a727a304161",
   "metadata": {},
   "outputs": [],
   "source": [
    "dataset = pd.read_csv('../output2.csv')[['win', 'time', 'score']]"
   ]
  },
  {
   "cell_type": "code",
   "execution_count": 3,
   "id": "d9c735ef-9bf9-49ea-9ae0-1033a72bb9da",
   "metadata": {},
   "outputs": [],
   "source": [
    "dataset = dataset[dataset.time <= 0.5]"
   ]
  },
  {
   "cell_type": "code",
   "execution_count": 4,
   "id": "2ba93954-31ab-4e86-8777-46b63103ca24",
   "metadata": {},
   "outputs": [
    {
     "data": {
      "text/html": [
       "<div>\n",
       "<style scoped>\n",
       "    .dataframe tbody tr th:only-of-type {\n",
       "        vertical-align: middle;\n",
       "    }\n",
       "\n",
       "    .dataframe tbody tr th {\n",
       "        vertical-align: top;\n",
       "    }\n",
       "\n",
       "    .dataframe thead th {\n",
       "        text-align: right;\n",
       "    }\n",
       "</style>\n",
       "<table border=\"1\" class=\"dataframe\">\n",
       "  <thead>\n",
       "    <tr style=\"text-align: right;\">\n",
       "      <th></th>\n",
       "      <th>win</th>\n",
       "      <th>time</th>\n",
       "      <th>score</th>\n",
       "    </tr>\n",
       "  </thead>\n",
       "  <tbody>\n",
       "    <tr>\n",
       "      <th>0</th>\n",
       "      <td>False</td>\n",
       "      <td>0.046000</td>\n",
       "      <td>140</td>\n",
       "    </tr>\n",
       "    <tr>\n",
       "      <th>1</th>\n",
       "      <td>True</td>\n",
       "      <td>0.446002</td>\n",
       "      <td>8480</td>\n",
       "    </tr>\n",
       "    <tr>\n",
       "      <th>2</th>\n",
       "      <td>True</td>\n",
       "      <td>0.354002</td>\n",
       "      <td>9500</td>\n",
       "    </tr>\n",
       "    <tr>\n",
       "      <th>3</th>\n",
       "      <td>False</td>\n",
       "      <td>0.022001</td>\n",
       "      <td>100</td>\n",
       "    </tr>\n",
       "    <tr>\n",
       "      <th>4</th>\n",
       "      <td>True</td>\n",
       "      <td>0.483000</td>\n",
       "      <td>9700</td>\n",
       "    </tr>\n",
       "    <tr>\n",
       "      <th>...</th>\n",
       "      <td>...</td>\n",
       "      <td>...</td>\n",
       "      <td>...</td>\n",
       "    </tr>\n",
       "    <tr>\n",
       "      <th>342</th>\n",
       "      <td>True</td>\n",
       "      <td>0.440471</td>\n",
       "      <td>12580</td>\n",
       "    </tr>\n",
       "    <tr>\n",
       "      <th>343</th>\n",
       "      <td>True</td>\n",
       "      <td>0.347000</td>\n",
       "      <td>7410</td>\n",
       "    </tr>\n",
       "    <tr>\n",
       "      <th>344</th>\n",
       "      <td>True</td>\n",
       "      <td>0.490000</td>\n",
       "      <td>10360</td>\n",
       "    </tr>\n",
       "    <tr>\n",
       "      <th>345</th>\n",
       "      <td>False</td>\n",
       "      <td>0.031998</td>\n",
       "      <td>130</td>\n",
       "    </tr>\n",
       "    <tr>\n",
       "      <th>346</th>\n",
       "      <td>False</td>\n",
       "      <td>0.317000</td>\n",
       "      <td>5280</td>\n",
       "    </tr>\n",
       "  </tbody>\n",
       "</table>\n",
       "<p>341 rows × 3 columns</p>\n",
       "</div>"
      ],
      "text/plain": [
       "       win      time  score\n",
       "0    False  0.046000    140\n",
       "1     True  0.446002   8480\n",
       "2     True  0.354002   9500\n",
       "3    False  0.022001    100\n",
       "4     True  0.483000   9700\n",
       "..     ...       ...    ...\n",
       "342   True  0.440471  12580\n",
       "343   True  0.347000   7410\n",
       "344   True  0.490000  10360\n",
       "345  False  0.031998    130\n",
       "346  False  0.317000   5280\n",
       "\n",
       "[341 rows x 3 columns]"
      ]
     },
     "execution_count": 4,
     "metadata": {},
     "output_type": "execute_result"
    }
   ],
   "source": [
    "dataset"
   ]
  },
  {
   "cell_type": "code",
   "execution_count": 5,
   "id": "11c08000-146b-4814-96b7-299e86fcc964",
   "metadata": {},
   "outputs": [],
   "source": [
    "next_result = dataset['win'].mean() > 0.5"
   ]
  },
  {
   "cell_type": "code",
   "execution_count": 6,
   "id": "240dced1-ff78-4cc1-931f-79beae50d106",
   "metadata": {},
   "outputs": [],
   "source": [
    "win_dataset = dataset[dataset.win == next_result]"
   ]
  },
  {
   "cell_type": "code",
   "execution_count": 7,
   "id": "ff89bd2e-1f67-4727-8a0d-468a8236cb80",
   "metadata": {},
   "outputs": [
    {
     "data": {
      "text/html": [
       "<div>\n",
       "<style scoped>\n",
       "    .dataframe tbody tr th:only-of-type {\n",
       "        vertical-align: middle;\n",
       "    }\n",
       "\n",
       "    .dataframe tbody tr th {\n",
       "        vertical-align: top;\n",
       "    }\n",
       "\n",
       "    .dataframe thead th {\n",
       "        text-align: right;\n",
       "    }\n",
       "</style>\n",
       "<table border=\"1\" class=\"dataframe\">\n",
       "  <thead>\n",
       "    <tr style=\"text-align: right;\">\n",
       "      <th></th>\n",
       "      <th>win</th>\n",
       "      <th>time</th>\n",
       "      <th>score</th>\n",
       "    </tr>\n",
       "  </thead>\n",
       "  <tbody>\n",
       "    <tr>\n",
       "      <th>1</th>\n",
       "      <td>True</td>\n",
       "      <td>0.446002</td>\n",
       "      <td>8480</td>\n",
       "    </tr>\n",
       "    <tr>\n",
       "      <th>2</th>\n",
       "      <td>True</td>\n",
       "      <td>0.354002</td>\n",
       "      <td>9500</td>\n",
       "    </tr>\n",
       "    <tr>\n",
       "      <th>4</th>\n",
       "      <td>True</td>\n",
       "      <td>0.483000</td>\n",
       "      <td>9700</td>\n",
       "    </tr>\n",
       "    <tr>\n",
       "      <th>5</th>\n",
       "      <td>True</td>\n",
       "      <td>0.419510</td>\n",
       "      <td>9080</td>\n",
       "    </tr>\n",
       "    <tr>\n",
       "      <th>7</th>\n",
       "      <td>True</td>\n",
       "      <td>0.371000</td>\n",
       "      <td>7500</td>\n",
       "    </tr>\n",
       "    <tr>\n",
       "      <th>...</th>\n",
       "      <td>...</td>\n",
       "      <td>...</td>\n",
       "      <td>...</td>\n",
       "    </tr>\n",
       "    <tr>\n",
       "      <th>338</th>\n",
       "      <td>True</td>\n",
       "      <td>0.356998</td>\n",
       "      <td>8240</td>\n",
       "    </tr>\n",
       "    <tr>\n",
       "      <th>339</th>\n",
       "      <td>True</td>\n",
       "      <td>0.374999</td>\n",
       "      <td>12750</td>\n",
       "    </tr>\n",
       "    <tr>\n",
       "      <th>342</th>\n",
       "      <td>True</td>\n",
       "      <td>0.440471</td>\n",
       "      <td>12580</td>\n",
       "    </tr>\n",
       "    <tr>\n",
       "      <th>343</th>\n",
       "      <td>True</td>\n",
       "      <td>0.347000</td>\n",
       "      <td>7410</td>\n",
       "    </tr>\n",
       "    <tr>\n",
       "      <th>344</th>\n",
       "      <td>True</td>\n",
       "      <td>0.490000</td>\n",
       "      <td>10360</td>\n",
       "    </tr>\n",
       "  </tbody>\n",
       "</table>\n",
       "<p>228 rows × 3 columns</p>\n",
       "</div>"
      ],
      "text/plain": [
       "      win      time  score\n",
       "1    True  0.446002   8480\n",
       "2    True  0.354002   9500\n",
       "4    True  0.483000   9700\n",
       "5    True  0.419510   9080\n",
       "7    True  0.371000   7500\n",
       "..    ...       ...    ...\n",
       "338  True  0.356998   8240\n",
       "339  True  0.374999  12750\n",
       "342  True  0.440471  12580\n",
       "343  True  0.347000   7410\n",
       "344  True  0.490000  10360\n",
       "\n",
       "[228 rows x 3 columns]"
      ]
     },
     "execution_count": 7,
     "metadata": {},
     "output_type": "execute_result"
    }
   ],
   "source": [
    "win_dataset"
   ]
  },
  {
   "cell_type": "code",
   "execution_count": 8,
   "id": "6ed8169e-d7e0-4d37-bde2-2d6fe6be0b89",
   "metadata": {},
   "outputs": [],
   "source": [
    "X = win_dataset.time.array.reshape(-1, 1)\n",
    "Y = win_dataset.score"
   ]
  },
  {
   "cell_type": "markdown",
   "id": "61a4b493-2c94-4cf9-afa8-8d60efb92283",
   "metadata": {},
   "source": [
    "# Linear Regression"
   ]
  },
  {
   "cell_type": "code",
   "execution_count": 9,
   "id": "2d5a874b-3786-4eb9-b92e-b38542015e35",
   "metadata": {},
   "outputs": [],
   "source": [
    "X_train, X_test, y_train, y_test = train_test_split(X, Y, test_size=0.2, random_state=1234)"
   ]
  },
  {
   "cell_type": "code",
   "execution_count": 10,
   "id": "d397c80e-6992-4d2e-a78a-abf6bb893e3a",
   "metadata": {},
   "outputs": [
    {
     "data": {
      "image/png": "[encoded data removed]",
      "text/plain": [
       "<Figure size 1440x720 with 1 Axes>"
      ]
     },
     "metadata": {
      "needs_background": "light"
     },
     "output_type": "display_data"
    }
   ],
   "source": [
    "fig = plt.figure(figsize=(20, 10))\n",
    "m1 = plt.scatter(X_train, y_train, s=10)\n",
    "m2 = plt.scatter(X_test, y_test, s=10)"
   ]
  },
  {
   "cell_type": "code",
   "execution_count": 11,
   "id": "b87322d3-dace-426e-addc-d3f02f1fed61",
   "metadata": {},
   "outputs": [],
   "source": [
    "model = linear_model.LinearRegression()"
   ]
  },
  {
   "cell_type": "code",
   "execution_count": 12,
   "id": "ef27cc53-9275-49e9-9eec-a845964be3a6",
   "metadata": {},
   "outputs": [
    {
     "data": {
      "text/plain": [
       "LinearRegression()"
      ]
     },
     "execution_count": 12,
     "metadata": {},
     "output_type": "execute_result"
    }
   ],
   "source": [
    "model.fit(X_train, y_train)"
   ]
  },
  {
   "cell_type": "code",
   "execution_count": 13,
   "id": "9ad39b73-5bae-44c4-bf53-392da312dcd2",
   "metadata": {},
   "outputs": [],
   "source": [
    "Y_pred = model.predict(X_test.reshape(-1, 1))"
   ]
  },
  {
   "cell_type": "code",
   "execution_count": 14,
   "id": "045421a1-d258-4e7f-8188-291c08927233",
   "metadata": {},
   "outputs": [],
   "source": [
    "y_pred_line = model.predict(win_dataset.time.array.reshape(-1, 1))"
   ]
  },
  {
   "cell_type": "code",
   "execution_count": 15,
   "id": "124ac350-2f75-4927-b7b3-565c7eddaadc",
   "metadata": {},
   "outputs": [
    {
     "data": {
      "text/plain": [
       "[<matplotlib.lines.Line2D at 0x2404aed29d0>]"
      ]
     },
     "execution_count": 15,
     "metadata": {},
     "output_type": "execute_result"
    },
    {
     "data": {
      "image/png": "[encoded data removed]",
      "text/plain": [
       "<Figure size 1440x720 with 1 Axes>"
      ]
     },
     "metadata": {
      "needs_background": "light"
     },
     "output_type": "display_data"
    }
   ],
   "source": [
    "fig = plt.figure(figsize=(20, 10))\n",
    "m1 = plt.scatter(X_train, y_train, s=10)\n",
    "m2 = plt.scatter(X_test, y_test, s=10)\n",
    "plt.plot(X, y_pred_line, color=\"black\", linewidth=2, label=\"Prediction\")"
   ]
  }
 ],
 "metadata": {
  "kernelspec": {
   "display_name": "Python 3 (ipykernel)",
   "language": "python",
   "name": "python3"
  },
  "language_info": {
   "codemirror_mode": {
    "name": "ipython",
    "version": 3
   },
   "file_extension": ".py",
   "mimetype": "text/x-python",
   "name": "python",
   "nbconvert_exporter": "python",
   "pygments_lexer": "ipython3",
   "version": "3.9.7"
  }
 },
 "nbformat": 4,
 "nbformat_minor": 5
}
